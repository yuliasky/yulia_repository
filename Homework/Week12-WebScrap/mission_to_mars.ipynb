{
 "cells": [
  {
   "cell_type": "code",
   "execution_count": 1,
   "metadata": {},
   "outputs": [],
   "source": [
    "# Import BeautifulSoup\n",
    "from bs4 import BeautifulSoup\n",
    "import requests\n",
    "import pymongo\n",
    "from splinter import Browser"
   ]
  },
  {
   "cell_type": "code",
   "execution_count": 2,
   "metadata": {},
   "outputs": [],
   "source": [
    "from splinter import Browser\n",
    "executable_path = {\"executable_path\": \"chromedriver\"}\n",
    "browser = Browser(\"chrome\", **executable_path, headless=False)"
   ]
  },
  {
   "cell_type": "code",
   "execution_count": 3,
   "metadata": {},
   "outputs": [],
   "source": [
    "# Initialize PyMongo to work with MongoDBs\n",
    "conn = 'mongodb://localhost:27017'\n",
    "client = pymongo.MongoClient(conn)"
   ]
  },
  {
   "cell_type": "code",
   "execution_count": 4,
   "metadata": {},
   "outputs": [],
   "source": [
    "# Define database and collection\n",
    "db = client.Nasa_db\n",
    "titles = db.items"
   ]
  },
  {
   "cell_type": "code",
   "execution_count": 5,
   "metadata": {},
   "outputs": [],
   "source": [
    "##### NASA Mars News\n",
    "url =\"https://mars.nasa.gov/news/\"\n",
    "browser.visit(url)"
   ]
  },
  {
   "cell_type": "code",
   "execution_count": 6,
   "metadata": {},
   "outputs": [
    {
     "name": "stdout",
     "output_type": "stream",
     "text": [
      "-----------\n",
      "NASA Invites Students to Name Mars 2020 Rover\n",
      "Through Nov. 1, K-12 students in the U.S. are encouraged to enter an essay contest to name NASA's next Mars rover.\n",
      "-----------\n",
      "NASA's Mars Helicopter Attached to Mars 2020 Rover \n",
      "The helicopter will be first aircraft to perform flight tests on another planet.\n",
      "-----------\n",
      "What's Mars Solar Conjunction, and Why Does It Matter?\n",
      "NASA spacecraft at Mars are going to be on their own for a few weeks when the Sun comes between Mars and Earth, interrupting communications.\n",
      "-----------\n",
      "Scientists Explore Outback as Testbed for Mars \n",
      "Australia provides a great place for NASA's Mars 2020 and the ESA-Roscosmos ExoMars scientists to hone techniques in preparation for searching for signs ancient life on Mars.\n",
      "-----------\n",
      "NASA-JPL Names 'Rolling Stones Rock' on Mars\n",
      "NASA's Mars InSight mission honored one of the biggest bands of all time at Pasadena concert.\n",
      "-----------\n",
      "Robotic Toolkit Added to NASA's Mars 2020 Rover\n",
      "The bit carousel, which lies at the heart of the rover's Sample Caching System, is now aboard NASA's newest rover. \n",
      "-----------\n",
      "Space Samples Link NASA's Apollo 11 and Mars 2020\n",
      "While separated by half a century, NASA's Apollo 11 and Mars 2020 missions share the same historic goal: returning samples to Earth.\n",
      "-----------\n",
      "Small Satellite Mission of the Year\n",
      "The first interplanetary CubeSats were recognized by the engineering community with the 2019 Small Satellite Mission of the Year award.\n",
      "-----------\n",
      "NASA 'Optometrists' Verify Mars 2020 Rover's 20/20 Vision\n",
      "Mars 2020 rover underwent an eye exam after several cameras were installed on the rover.\n",
      "-----------\n",
      "New Finds for Mars Rover, Seven Years After Landing\n",
      "NASA's Curiosity rover is discovering odd rocks halfway into a region called the \"clay-bearing unit.\"\n",
      "-----------\n",
      "MEDLI2 Installation on Mars 2020 Aeroshell Begins\n",
      "Hardware installed onto NASA's Mars 2020 entry vehicle this week will help to increase the safety of future Mars landings.\n",
      "-----------\n",
      "NASA's Mars 2020 Rover Does Biceps Curls \n",
      "In this time-lapse video, the robotic arm on NASA's Mars 2020 rover maneuvers its 88-pound (40-kilogram) sensor-laden turret as it moves from a deployed to stowed configuration.\n",
      "-----------\n",
      "Fueling of NASA's Mars 2020 Rover Power System Begins\n",
      "NASA gives the go-ahead to fuel the Mars 2020 rover's Multi-Mission Radioisotope Thermoelectric Generator, which will power rover and help keep it warm while exploring Mars.\n",
      "-----------\n",
      "What Does a Marsquake Look Like?\n",
      "InSight scientists used a special \"shake room\" to demonstrate the differences between quakes on Earth, the Moon and Mars.\n",
      "-----------\n",
      "Mars 2020 Rover: T-Minus One Year and Counting \n",
      "The launch period for NASA's next rover, Mars 2020, opens exactly one year from today, July 17, 2020, and extends through Aug. 5, 2020.\n",
      "-----------\n",
      "NASA Racks Up Two Emmy Nominations for Mission Coverage\n",
      "JPL's coverage of the Mars InSight mission is among the efforts that will be up for an award in mid-September.\n",
      "-----------\n",
      "Want to Colonize Mars? Aerogel Could Help\n",
      "Researchers are studying whether a wonder material used in Mars rovers could help warm parts of the Red Planet rich in water ice.\n",
      "-----------\n",
      "A Rover Pit Stop at JPL\n",
      "Working like a finely honed machine, a team of engineers in this time-lapse video clip install test wheels on another finely honed machine: NASA's Mars 2020 rover.\n",
      "-----------\n",
      "Mars 2020 Rover Gets a Super Instrument\n",
      "With its rock-zapping laser, the SuperCam will enable the science team to identify the chemical and mineral makeup of its targets on the Red Planet.\n",
      "-----------\n",
      "A Neil Armstrong for Mars: Landing the Mars 2020 Rover\n",
      "NASA's newest rover will have an autopilot called Terrain-Relative Navigation.\n",
      "-----------\n",
      "NASA's InSight Uncovers the 'Mole' \n",
      "The lander's robotic arm has successfully removed a piece of hardware blocking the view of its digging device in order to help with recovery efforts.\n",
      "-----------\n",
      "Mars 2020 Rover's 7-Foot-Long Robotic Arm Installed\n",
      "The main robotic arm has been installed on NASA's newest rover. When complete, the arm will enable the rover to hold and use science tools like a human geologist would.\n",
      "-----------\n",
      "NASA Selects Partners for Mars 2020 'Name the Rover' Contest, Seeks Judges\n",
      "The contest for U.S. schoolchildren will open in fall 2019, but judges can sign up now.\n",
      "-----------\n",
      "Curiosity's Mars Methane Mystery Continues\n",
      "The Curiosity rover’s follow-on sampling shows last week’s methane levels have sharply decreased.\n",
      "-----------\n",
      "Mars 2020 Rover Gets Its Wheels\n",
      "With the mobility suspension in place, the rover not only looks more like a rover but has many of its 'big-ticket items' installed.\n",
      "-----------\n",
      "The Mast Is Raised for NASA's Mars 2020 Rover\n",
      "Engineers at JPL take a group selfie after attaching the remote sensing mast to the Mars 2020 rover.\n",
      "-----------\n",
      "NASA's Mars 2020 Will Blaze a Trail — for Humans\n",
      "The next robotic Mars mission will carry technology that will help enable astronauts to eventually explore the Red Planet.\n",
      "-----------\n",
      "Johnson-Built Device to Help Mars 2020 Rover Search for Signs of Life\n",
      "NASA’s Johnson Space Center (JSC) recently built a new calibration device for the rover to check SHERLOC’s function and properly tune it during the upcoming mission.\n",
      "-----------\n",
      "Watch NASA Build Its Next Mars Rover\n",
      "A newly installed webcam offers the public a live, bird's-eye view of NASA's Mars 2020 rover as it takes shape at NASA's Jet Propulsion Laboratory. \n",
      "-----------\n",
      "NASA's Mars Helicopter Testing Enters Final Phase\n",
      "NASA's Mars Helicopter flight demonstration project has passed a number of key tests with flying colors.\n",
      "-----------\n",
      "InSight's Team Tries New Strategy to Help the 'Mole'\n",
      "The spacecraft's robotic arm will lift the heat probe's support structure, providing a better look at the instrument that has been trying to burrow into the Martian surface.\n",
      "-----------\n",
      "Common Questions about InSight's 'Mole'\n",
      "There's a new plan to get InSight's \"mole\" moving again. The following Q&As with two members of the team answer some of the most common questions about the burrowing device, part of a science instrument called the Heat Flow and Physical Properties Package (HP3).\n",
      "-----------\n",
      "NASA's Curiosity Mars Rover Finds a Clay Cache\n",
      "The rover recently drilled two samples, and both showed the highest levels of clay ever found during the mission.\n",
      "-----------\n",
      "NASA to Land in Mars, Pennsylvania to Celebrate Red Planet with STEAM\n",
      "NASA returns to Mars, Pennsylvania Friday, May 31 to celebrate Mars exploration and share the agency’s excitement about landing astronauts on the Moon in five years.\n",
      "-----------\n",
      "NASA's Mars 2020 Gets a Dose of Space Here on Earth\n",
      "NASA's Mars 2020 spacecraft has completed tests that are the best Earthly approximations of what the spacecraft will endure during launch and interplanetary cruise.\n",
      "-----------\n",
      "NASA Invites Public to Submit Names to Fly Aboard Next Mars Rover\n",
      "From now till Sept. 30, the public can submit names to be stenciled on chips that will fly on the Mars 2020 rover and receive a souvenir boarding pass.\n",
      "-----------\n",
      "NASA's MRO Completes 60,000 Trips Around Mars\n",
      "The orbiting spacecraft is also about to set a record for data relayed from the Martian surface.\n",
      "-----------\n",
      "Video: Fly over Mount Sharp on Mars\n",
      "A new animation shows the region NASA's Curiosity rover is currently exploring and where its team wants to go in the future.\n",
      "-----------\n",
      "Why This Martian Full Moon Looks Like Candy\n",
      "For the first time, NASA's Mars Odyssey orbiter has caught the Martian moon Phobos during a full moon phase. Each color in this new image represents a temperature range detected by Odyssey's infrared camera.\n",
      "-----------\n",
      "For InSight, Dust Cleanings Will Yield New Science\n",
      "Wind can be crucial to clearing dust from spacecraft solar panels on Mars. With InSight's meteorological sensors, scientists get their first measurements of wind and dust interacting \"live\" on the Martian surface.  \n"
     ]
    }
   ],
   "source": [
    "\n",
    "    html = browser.html\n",
    "    soup = BeautifulSoup(html, 'html.parser')\n",
    "    latest_title=[]\n",
    "    latest_paragraphs=[]\n",
    "    \n",
    "    quotes = soup.find_all('li', class_='slide')\n",
    "\n",
    "    for quote in quotes:\n",
    "        # Use Beautiful Soup's find() method to navigate and retrieve attributes\n",
    "        title = quote.find('div',class_=\"content_title\").text\n",
    "        paragraph = quote.find('div', class_='article_teaser_body').text\n",
    "        print('-----------')\n",
    "        print(title)\n",
    "        print(paragraph)\n",
    "        latest_title.append(title)\n",
    "        latest_paragraphs.append(paragraph)\n"
   ]
  },
  {
   "cell_type": "code",
   "execution_count": 7,
   "metadata": {},
   "outputs": [
    {
     "name": "stdout",
     "output_type": "stream",
     "text": [
      "NASA Invites Students to Name Mars 2020 Rover\n",
      "Through Nov. 1, K-12 students in the U.S. are encouraged to enter an essay contest to name NASA's next Mars rover.\n"
     ]
    }
   ],
   "source": [
    "news_title =  latest_title[0]\n",
    "news_p  = latest_paragraphs[0]\n",
    "print(news_title)\n",
    "print(news_p)"
   ]
  },
  {
   "cell_type": "code",
   "execution_count": 8,
   "metadata": {},
   "outputs": [],
   "source": [
    "########JPL Mars Space Images - Featured Image\n",
    "url_img = \"https://www.jpl.nasa.gov/spaceimages/?search=&category=Mars\"\n",
    "browser.visit(url_img)"
   ]
  },
  {
   "cell_type": "code",
   "execution_count": 9,
   "metadata": {},
   "outputs": [],
   "source": [
    "html = browser.html\n",
    "soup = BeautifulSoup(html, 'html.parser')"
   ]
  },
  {
   "cell_type": "code",
   "execution_count": 13,
   "metadata": {},
   "outputs": [],
   "source": [
    "image_main = soup.find('article', class_=\"carousel_item\")\n",
    "image_a= image_main.find('a',class_=\"button fancybox\")['data-fancybox-href']\n",
    "title_main = image_main.find('a',class_=\"button fancybox\")['data-title']\n",
    "image_descrip= image_main.find('a',class_=\"button fancybox\")['data-description']\n",
    "#images = soup.find_all('li', class_='slide')\n",
    "featured_image_url = ('https://www.jpl.nasa.gov' + image_a)\n",
    "featured_image_title = title_main\n",
    "featured_image_descrip = image_descrip"
   ]
  },
  {
   "cell_type": "code",
   "execution_count": 14,
   "metadata": {},
   "outputs": [
    {
     "name": "stdout",
     "output_type": "stream",
     "text": [
      "{'https://www.jpl.nasa.gov/spaceimages/images/mediumsize/PIA14254_ip.jpg'} {'Mars Rover Curiosity, Front View'} {\"This photograph of the NASA Mars Science Laboratory rover, Curiosity, was taken during mobility testing on June 3, 2011. The location is inside the Spacecraft Assembly Facility at NASA's Jet Propulsion Laboratory, Pasadena, Calif.\"}\n"
     ]
    }
   ],
   "source": [
    "print({featured_image_url} , {featured_image_title}, {featured_image_descrip})"
   ]
  },
  {
   "cell_type": "code",
   "execution_count": 15,
   "metadata": {},
   "outputs": [],
   "source": [
    "############Mars Weather"
   ]
  },
  {
   "cell_type": "code",
   "execution_count": 16,
   "metadata": {},
   "outputs": [],
   "source": [
    "url_tweet = \"https://twitter.com/marswxreport?lang=en\"\n",
    "browser.visit(url_tweet)"
   ]
  },
  {
   "cell_type": "code",
   "execution_count": 17,
   "metadata": {},
   "outputs": [
    {
     "name": "stdout",
     "output_type": "stream",
     "text": [
      "-----------\n",
      "\n",
      "We won’t be hearing from @MarsCuriosity or @NASAInSight for the next 2 weeks during Mars solar conjunction. Read more about why Mars missions go silent every 2 years: https://www.wral.com/mars-spacecraft-go-quiet-during-solar-conjunction/18595551/ …pic.twitter.com/fWruE2v151\n",
      "\n",
      "https://pbs.twimg.com/profile_images/2552209293/220px-Mars_atmosphere_bigger.jpg\n",
      "-----------\n",
      "\n",
      "InSight sol 265 (2019-08-25) low -99.4ºC (-146.9ºF) high -26.3ºC (-15.3ºF)\n",
      "winds from the SSE at 5.3 m/s (12.0 mph) gusting to 16.1 m/s (35.9 mph)\n",
      "pressure at 7.50 hP\n",
      "https://pbs.twimg.com/profile_images/2552209293/220px-Mars_atmosphere_bigger.jpg\n",
      "-----------\n",
      "\n",
      "InSight sol 264 (2019-08-24) low -101.0ºC (-149.7ºF) high -26.7ºC (-16.1ºF)\n",
      "winds from the SW at 4.4 m/s (9.9 mph) gusting to 17.4 m/s (38.9 mph)\n",
      "pressure at 7.60 hP\n",
      "https://pbs.twimg.com/profile_images/2552209293/220px-Mars_atmosphere_bigger.jpg\n",
      "-----------\n",
      "\n",
      "InSight sol 263 (2019-08-23) low -100.9ºC (-149.6ºF) high -27.2ºC (-17.0ºF)\n",
      "winds from the SW at 4.1 m/s (9.2 mph) gusting to 18.3 m/s (40.9 mph)\n",
      "pressure at 7.60 hPa\n",
      "\n",
      "https://pbs.twimg.com/profile_images/2552209293/220px-Mars_atmosphere_bigger.jpg\n",
      "-----------\n",
      "\n",
      "InSight sol 262 (2019-08-22) low -101.3ºC (-150.3ºF) high -26.4ºC (-15.6ºF)\n",
      "winds from the SSE at 4.2 m/s (9.4 mph) gusting to 15.8 m/s (35.3 mph)\n",
      "pressure at 7.60 hPa\n",
      "\n",
      "https://pbs.twimg.com/profile_images/2552209293/220px-Mars_atmosphere_bigger.jpg\n",
      "-----------\n",
      "\n",
      "InSight sol 261 (2019-08-21) low -102.4ºC (-152.4ºF) high -26.6ºC (-15.8ºF)\n",
      "winds from the SSE at 4.9 m/s (11.0 mph) gusting to 16.0 m/s (35.8 mph)\n",
      "pressure at 7.70 hP\n",
      "https://pbs.twimg.com/profile_images/2552209293/220px-Mars_atmosphere_bigger.jpg\n",
      "-----------\n",
      "\n",
      "InSight sol 260 (2019-08-20) low -101.7ºC (-151.1ºF) high -28.6ºC (-19.5ºF)\n",
      "pressure at 7.60 hPa\n",
      "\n",
      "https://pbs.twimg.com/profile_images/2552209293/220px-Mars_atmosphere_bigger.jpg\n",
      "-----------\n",
      "\n",
      "InSight sol 259 (2019-08-19) low -101.0ºC (-149.8ºF) high -27.1ºC (-16.9ºF)\n",
      "winds from the SW at 4.3 m/s (9.6 mph) gusting to 17.6 m/s (39.4 mph)\n",
      "pressure at 7.60 hPa\n",
      "\n",
      "https://pbs.twimg.com/profile_images/2552209293/220px-Mars_atmosphere_bigger.jpg\n",
      "-----------\n",
      "\n",
      "InSight sol 258 (2019-08-18) low -100.0ºC (-148.1ºF) high -26.2ºC (-15.2ºF)\n",
      "winds from the SSE at 5.3 m/s (11.9 mph) gusting to 16.8 m/s (37.6 mph)\n",
      "pressure at 7.60 hP\n",
      "https://pbs.twimg.com/profile_images/2552209293/220px-Mars_atmosphere_bigger.jpg\n",
      "-----------\n",
      "\n",
      "InSight sol 257 (2019-08-17) low -100.2ºC (-148.4ºF) high -26.5ºC (-15.7ºF)\n",
      "winds from the SSE at 4.4 m/s (9.8 mph) gusting to 17.1 m/s (38.2 mph)\n",
      "pressure at 7.60 hP\n",
      "https://pbs.twimg.com/profile_images/2552209293/220px-Mars_atmosphere_bigger.jpg\n",
      "-----------\n",
      "\n",
      "InSight sol 256 (2019-08-16) low -101.7ºC (-151.1ºF) high -25.6ºC (-14.2ºF)\n",
      "winds from the SW at 4.2 m/s (9.4 mph) gusting to 17.9 m/s (40.0 mph)\n",
      "pressure at 7.60 hPa\n",
      "\n",
      "https://pbs.twimg.com/profile_images/2552209293/220px-Mars_atmosphere_bigger.jpg\n",
      "-----------\n",
      "\n",
      "InSight sol 255 (2019-08-15) low -100.1ºC (-148.1ºF) high -24.7ºC (-12.4ºF)\n",
      "winds from the SSW at 4.5 m/s (10.0 mph) gusting to 17.3 m/s (38.6 mph)\n",
      "pressure at 7.60 hPa\n",
      "\n",
      "https://pbs.twimg.com/profile_images/2552209293/220px-Mars_atmosphere_bigger.jpg\n",
      "-----------\n",
      "\n",
      "InSight sol 254 (2019-08-14) low -99.3ºC (-146.7ºF) high -25.9ºC (-14.6ºF)\n",
      "winds from the SE at 4.9 m/s (10.9 mph) gusting to 18.1 m/s (40.5 mph)\n",
      "pressure at 7.60 hPa\n",
      "\n",
      "https://pbs.twimg.com/profile_images/2552209293/220px-Mars_atmosphere_bigger.jpg\n",
      "-----------\n",
      "\n",
      "\"Dusty\" the Earthbound twin (triplet?) of @MarsRovers  Opportunity & Spirit is heading for a new home at the National @airandspace Museum.https://twitter.com/AstroStaab/status/1162103864608169984 …\n",
      "\n",
      "https://pbs.twimg.com/profile_images/2552209293/220px-Mars_atmosphere_bigger.jpg\n",
      "-----------\n",
      "\n",
      "InSight sol 253 (2019-08-13) low -100.0ºC (-148.1ºF) high -25.5ºC (-13.9ºF)\n",
      "winds from the SSE at 4.6 m/s (10.3 mph) gusting to 16.4 m/s (36.6 mph)\n",
      "pressure at 7.60 hP\n",
      "https://pbs.twimg.com/profile_images/2552209293/220px-Mars_atmosphere_bigger.jpg\n",
      "-----------\n",
      "\n",
      "InSight sol 252 (2019-08-12) low -100.8ºC (-149.4ºF) high -26.0ºC (-14.8ºF)\n",
      "winds from the SSW at 4.4 m/s (9.8 mph) gusting to 18.3 m/s (40.9 mph)\n",
      "pressure at 7.60 hP\n",
      "https://pbs.twimg.com/profile_images/2552209293/220px-Mars_atmosphere_bigger.jpg\n",
      "-----------\n",
      "\n",
      "I’d say a plutonium-238 powered RTG qualifies the Curiosity and Mars2020 rovers as alternative fuel vehicles. You can explore these and other missions, rockets and more with JPL’s Spacecraft AR for IOS and Androhttps://www.jpl.nasa.gov/apps/pic.twitter.com/f4SheTlQyY\n",
      "\n",
      "https://pbs.twimg.com/profile_images/2552209293/220px-Mars_atmosphere_bigger.jpg\n",
      "-----------\n",
      "\n",
      "InSight sol 251 (2019-08-11) low -101.0ºC (-149.7ºF) high -26.5ºC (-15.8ºF)\n",
      "winds from the SSE at 4.1 m/s (9.2 mph) gusting to 17.5 m/s (39.1 mph)\n",
      "pressure at 7.60 hP\n",
      "https://pbs.twimg.com/profile_images/2552209293/220px-Mars_atmosphere_bigger.jpg\n",
      "-----------\n",
      "\n",
      "InSight sol 250 (2019-08-10) low -100.0ºC (-148.1ºF) high -26.2ºC (-15.1ºF)\n",
      "winds from the SSE at 4.4 m/s (9.8 mph) gusting to 16.2 m/s (36.2 mph)\n",
      "pressure at 7.60 hP\n",
      "https://pbs.twimg.com/profile_images/2552209293/220px-Mars_atmosphere_bigger.jpg\n",
      "-----------\n",
      "\n",
      "InSight sol 249 (2019-08-09) low -98.8ºC (-145.8ºF) high -26.0ºC (-14.8ºF)\n",
      "winds from the SSE at 4.4 m/s (9.8 mph) gusting to 17.5 m/s (39.1 mph)\n",
      "pressure at 7.60 hP\n",
      "https://pbs.twimg.com/profile_images/2552209293/220px-Mars_atmosphere_bigger.jpg\n"
     ]
    }
   ],
   "source": [
    "    html = browser.html\n",
    "    soup = BeautifulSoup(html, 'html.parser')\n",
    "    tweet_txts=[]\n",
    "    tweet_imgs = []\n",
    "    \n",
    "    tweets = soup.find_all('li', class_='js-stream-item stream-item stream-item')\n",
    "\n",
    "    # Iterate through each book\n",
    "    for tweet in tweets:\n",
    "        # Use Beautiful Soup's find() method to navigate and retrieve attributes\n",
    "        tweet_txt_1 = tweet.find('div', class_='js-tweet-text-container').text\n",
    "        tweet_img = tweet.find('img')['src']\n",
    "        tweet_img_url = (tweet_img )\n",
    "        tweet_txt_1 = tweet_txt_1.split('apic')[0]\n",
    "        tweet_txts.append(tweet_txt_1)\n",
    "        tweet_imgs.append(tweet_img_url)\n",
    "        print('-----------')\n",
    "        print(tweet_txt_1)\n",
    "        print(tweet_img_url)"
   ]
  },
  {
   "cell_type": "code",
   "execution_count": 18,
   "metadata": {},
   "outputs": [
    {
     "name": "stdout",
     "output_type": "stream",
     "text": [
      "\n",
      "We won’t be hearing from @MarsCuriosity or @NASAInSight for the next 2 weeks during Mars solar conjunction. Read more about why Mars missions go silent every 2 years: https://www.wral.com/mars-spacecraft-go-quiet-during-solar-conjunction/18595551/ …pic.twitter.com/fWruE2v151\n",
      "\n"
     ]
    }
   ],
   "source": [
    "mars_weather = tweet_txts[0]\n",
    "mars_weather_img = tweet_imgs[0]\n",
    "print(mars_weather)"
   ]
  },
  {
   "cell_type": "code",
   "execution_count": 19,
   "metadata": {},
   "outputs": [],
   "source": [
    "##################   Mars Facts\n",
    "import pandas as pd"
   ]
  },
  {
   "cell_type": "code",
   "execution_count": 20,
   "metadata": {},
   "outputs": [
    {
     "data": {
      "text/plain": [
       "[  Mars - Earth Comparison             Mars            Earth\n",
       " 0               Diameter:         6,779 km        12,742 km\n",
       " 1                   Mass:  6.39 × 10^23 kg  5.97 × 10^24 kg\n",
       " 2                  Moons:                2                1\n",
       " 3      Distance from Sun:   227,943,824 km   149,598,262 km\n",
       " 4         Length of Year:   687 Earth days      365.24 days\n",
       " 5            Temperature:    -153 to 20 °C      -88 to 58°C,\n",
       "                       0                              1\n",
       " 0  Equatorial Diameter:                       6,792 km\n",
       " 1       Polar Diameter:                       6,752 km\n",
       " 2                 Mass:  6.39 × 10^23 kg (0.11 Earths)\n",
       " 3                Moons:            2 (Phobos & Deimos)\n",
       " 4       Orbit Distance:       227,943,824 km (1.38 AU)\n",
       " 5         Orbit Period:           687 days (1.9 years)\n",
       " 6  Surface Temperature:                   -87 to -5 °C\n",
       " 7         First Record:              2nd millennium BC\n",
       " 8          Recorded By:           Egyptian astronomers]"
      ]
     },
     "execution_count": 20,
     "metadata": {},
     "output_type": "execute_result"
    }
   ],
   "source": [
    "url_table = 'https://space-facts.com/mars/'\n",
    "tables = pd.read_html(url_table)\n",
    "tables"
   ]
  },
  {
   "cell_type": "code",
   "execution_count": 21,
   "metadata": {},
   "outputs": [
    {
     "data": {
      "text/plain": [
       "list"
      ]
     },
     "execution_count": 21,
     "metadata": {},
     "output_type": "execute_result"
    }
   ],
   "source": [
    " type(tables)"
   ]
  },
  {
   "cell_type": "code",
   "execution_count": 22,
   "metadata": {},
   "outputs": [
    {
     "data": {
      "text/html": [
       "<div>\n",
       "<style scoped>\n",
       "    .dataframe tbody tr th:only-of-type {\n",
       "        vertical-align: middle;\n",
       "    }\n",
       "\n",
       "    .dataframe tbody tr th {\n",
       "        vertical-align: top;\n",
       "    }\n",
       "\n",
       "    .dataframe thead th {\n",
       "        text-align: right;\n",
       "    }\n",
       "</style>\n",
       "<table border=\"1\" class=\"dataframe\">\n",
       "  <thead>\n",
       "    <tr style=\"text-align: right;\">\n",
       "      <th></th>\n",
       "      <th>Characteristic</th>\n",
       "      <th>Mars</th>\n",
       "      <th>Earth</th>\n",
       "    </tr>\n",
       "  </thead>\n",
       "  <tbody>\n",
       "    <tr>\n",
       "      <th>0</th>\n",
       "      <td>Diameter:</td>\n",
       "      <td>6,779 km</td>\n",
       "      <td>12,742 km</td>\n",
       "    </tr>\n",
       "    <tr>\n",
       "      <th>1</th>\n",
       "      <td>Mass:</td>\n",
       "      <td>6.39 × 10^23 kg</td>\n",
       "      <td>5.97 × 10^24 kg</td>\n",
       "    </tr>\n",
       "    <tr>\n",
       "      <th>2</th>\n",
       "      <td>Moons:</td>\n",
       "      <td>2</td>\n",
       "      <td>1</td>\n",
       "    </tr>\n",
       "    <tr>\n",
       "      <th>3</th>\n",
       "      <td>Distance from Sun:</td>\n",
       "      <td>227,943,824 km</td>\n",
       "      <td>149,598,262 km</td>\n",
       "    </tr>\n",
       "    <tr>\n",
       "      <th>4</th>\n",
       "      <td>Length of Year:</td>\n",
       "      <td>687 Earth days</td>\n",
       "      <td>365.24 days</td>\n",
       "    </tr>\n",
       "  </tbody>\n",
       "</table>\n",
       "</div>"
      ],
      "text/plain": [
       "       Characteristic             Mars            Earth\n",
       "0           Diameter:         6,779 km        12,742 km\n",
       "1               Mass:  6.39 × 10^23 kg  5.97 × 10^24 kg\n",
       "2              Moons:                2                1\n",
       "3  Distance from Sun:   227,943,824 km   149,598,262 km\n",
       "4     Length of Year:   687 Earth days      365.24 days"
      ]
     },
     "execution_count": 22,
     "metadata": {},
     "output_type": "execute_result"
    }
   ],
   "source": [
    "df = tables[0]\n",
    "df.columns = ['Characteristic', 'Mars', 'Earth']\n",
    "df.head()"
   ]
  },
  {
   "cell_type": "code",
   "execution_count": 23,
   "metadata": {},
   "outputs": [
    {
     "data": {
      "text/html": [
       "<div>\n",
       "<style scoped>\n",
       "    .dataframe tbody tr th:only-of-type {\n",
       "        vertical-align: middle;\n",
       "    }\n",
       "\n",
       "    .dataframe tbody tr th {\n",
       "        vertical-align: top;\n",
       "    }\n",
       "\n",
       "    .dataframe thead th {\n",
       "        text-align: right;\n",
       "    }\n",
       "</style>\n",
       "<table border=\"1\" class=\"dataframe\">\n",
       "  <thead>\n",
       "    <tr style=\"text-align: right;\">\n",
       "      <th></th>\n",
       "      <th>Mars</th>\n",
       "      <th>Earth</th>\n",
       "    </tr>\n",
       "    <tr>\n",
       "      <th>Characteristic</th>\n",
       "      <th></th>\n",
       "      <th></th>\n",
       "    </tr>\n",
       "  </thead>\n",
       "  <tbody>\n",
       "    <tr>\n",
       "      <th>Diameter:</th>\n",
       "      <td>6,779 km</td>\n",
       "      <td>12,742 km</td>\n",
       "    </tr>\n",
       "    <tr>\n",
       "      <th>Mass:</th>\n",
       "      <td>6.39 × 10^23 kg</td>\n",
       "      <td>5.97 × 10^24 kg</td>\n",
       "    </tr>\n",
       "    <tr>\n",
       "      <th>Moons:</th>\n",
       "      <td>2</td>\n",
       "      <td>1</td>\n",
       "    </tr>\n",
       "    <tr>\n",
       "      <th>Distance from Sun:</th>\n",
       "      <td>227,943,824 km</td>\n",
       "      <td>149,598,262 km</td>\n",
       "    </tr>\n",
       "    <tr>\n",
       "      <th>Length of Year:</th>\n",
       "      <td>687 Earth days</td>\n",
       "      <td>365.24 days</td>\n",
       "    </tr>\n",
       "  </tbody>\n",
       "</table>\n",
       "</div>"
      ],
      "text/plain": [
       "                               Mars            Earth\n",
       "Characteristic                                      \n",
       "Diameter:                  6,779 km        12,742 km\n",
       "Mass:               6.39 × 10^23 kg  5.97 × 10^24 kg\n",
       "Moons:                            2                1\n",
       "Distance from Sun:   227,943,824 km   149,598,262 km\n",
       "Length of Year:      687 Earth days      365.24 days"
      ]
     },
     "execution_count": 23,
     "metadata": {},
     "output_type": "execute_result"
    }
   ],
   "source": [
    "df=df.set_index('Characteristic')\n",
    "df.head()"
   ]
  },
  {
   "cell_type": "code",
   "execution_count": 24,
   "metadata": {
    "scrolled": true
   },
   "outputs": [
    {
     "data": {
      "text/plain": [
       "'<table border=\"1\" class=\"dataframe\">\\n  <thead>\\n    <tr style=\"text-align: right;\">\\n      <th></th>\\n      <th>Mars</th>\\n      <th>Earth</th>\\n    </tr>\\n    <tr>\\n      <th>Characteristic</th>\\n      <th></th>\\n      <th></th>\\n    </tr>\\n  </thead>\\n  <tbody>\\n    <tr>\\n      <th>Diameter:</th>\\n      <td>6,779 km</td>\\n      <td>12,742 km</td>\\n    </tr>\\n    <tr>\\n      <th>Mass:</th>\\n      <td>6.39 × 10^23 kg</td>\\n      <td>5.97 × 10^24 kg</td>\\n    </tr>\\n    <tr>\\n      <th>Moons:</th>\\n      <td>2</td>\\n      <td>1</td>\\n    </tr>\\n    <tr>\\n      <th>Distance from Sun:</th>\\n      <td>227,943,824 km</td>\\n      <td>149,598,262 km</td>\\n    </tr>\\n    <tr>\\n      <th>Length of Year:</th>\\n      <td>687 Earth days</td>\\n      <td>365.24 days</td>\\n    </tr>\\n    <tr>\\n      <th>Temperature:</th>\\n      <td>-153 to 20 °C</td>\\n      <td>-88 to 58°C</td>\\n    </tr>\\n  </tbody>\\n</table>'"
      ]
     },
     "execution_count": 24,
     "metadata": {},
     "output_type": "execute_result"
    }
   ],
   "source": [
    "html_table_mars = df.to_html()\n",
    "html_table_mars"
   ]
  },
  {
   "cell_type": "code",
   "execution_count": 25,
   "metadata": {},
   "outputs": [
    {
     "data": {
      "text/plain": [
       "'<table border=\"1\" class=\"dataframe\">  <thead>    <tr style=\"text-align: right;\">      <th></th>      <th>Mars</th>      <th>Earth</th>    </tr>    <tr>      <th>Characteristic</th>      <th></th>      <th></th>    </tr>  </thead>  <tbody>    <tr>      <th>Diameter:</th>      <td>6,779 km</td>      <td>12,742 km</td>    </tr>    <tr>      <th>Mass:</th>      <td>6.39 × 10^23 kg</td>      <td>5.97 × 10^24 kg</td>    </tr>    <tr>      <th>Moons:</th>      <td>2</td>      <td>1</td>    </tr>    <tr>      <th>Distance from Sun:</th>      <td>227,943,824 km</td>      <td>149,598,262 km</td>    </tr>    <tr>      <th>Length of Year:</th>      <td>687 Earth days</td>      <td>365.24 days</td>    </tr>    <tr>      <th>Temperature:</th>      <td>-153 to 20 °C</td>      <td>-88 to 58°C</td>    </tr>  </tbody></table>'"
      ]
     },
     "execution_count": 25,
     "metadata": {},
     "output_type": "execute_result"
    }
   ],
   "source": [
    "html_table_mars = html_table_mars.replace('\\n', '')\n",
    "html_table_mars"
   ]
  },
  {
   "cell_type": "code",
   "execution_count": 26,
   "metadata": {},
   "outputs": [],
   "source": [
    "text_file = open(\"html_table_mars.html\", \"w\")\n",
    "text_file.write(html_table_mars)\n",
    "text_file.close()"
   ]
  },
  {
   "cell_type": "code",
   "execution_count": 27,
   "metadata": {},
   "outputs": [
    {
     "data": {
      "text/html": [
       "<div>\n",
       "<style scoped>\n",
       "    .dataframe tbody tr th:only-of-type {\n",
       "        vertical-align: middle;\n",
       "    }\n",
       "\n",
       "    .dataframe tbody tr th {\n",
       "        vertical-align: top;\n",
       "    }\n",
       "\n",
       "    .dataframe thead th {\n",
       "        text-align: right;\n",
       "    }\n",
       "</style>\n",
       "<table border=\"1\" class=\"dataframe\">\n",
       "  <thead>\n",
       "    <tr style=\"text-align: right;\">\n",
       "      <th></th>\n",
       "      <th>Characteristic</th>\n",
       "      <th>Mars</th>\n",
       "    </tr>\n",
       "  </thead>\n",
       "  <tbody>\n",
       "    <tr>\n",
       "      <th>0</th>\n",
       "      <td>Equatorial Diameter:</td>\n",
       "      <td>6,792 km</td>\n",
       "    </tr>\n",
       "    <tr>\n",
       "      <th>1</th>\n",
       "      <td>Polar Diameter:</td>\n",
       "      <td>6,752 km</td>\n",
       "    </tr>\n",
       "    <tr>\n",
       "      <th>2</th>\n",
       "      <td>Mass:</td>\n",
       "      <td>6.39 × 10^23 kg (0.11 Earths)</td>\n",
       "    </tr>\n",
       "    <tr>\n",
       "      <th>3</th>\n",
       "      <td>Moons:</td>\n",
       "      <td>2 (Phobos &amp; Deimos)</td>\n",
       "    </tr>\n",
       "    <tr>\n",
       "      <th>4</th>\n",
       "      <td>Orbit Distance:</td>\n",
       "      <td>227,943,824 km (1.38 AU)</td>\n",
       "    </tr>\n",
       "  </tbody>\n",
       "</table>\n",
       "</div>"
      ],
      "text/plain": [
       "         Characteristic                           Mars\n",
       "0  Equatorial Diameter:                       6,792 km\n",
       "1       Polar Diameter:                       6,752 km\n",
       "2                 Mass:  6.39 × 10^23 kg (0.11 Earths)\n",
       "3                Moons:            2 (Phobos & Deimos)\n",
       "4       Orbit Distance:       227,943,824 km (1.38 AU)"
      ]
     },
     "execution_count": 27,
     "metadata": {},
     "output_type": "execute_result"
    }
   ],
   "source": [
    "df_2 = tables[1]\n",
    "df_2.columns = ['Characteristic', 'Mars']\n",
    "df_2.head()"
   ]
  },
  {
   "cell_type": "code",
   "execution_count": 28,
   "metadata": {},
   "outputs": [
    {
     "data": {
      "text/html": [
       "<div>\n",
       "<style scoped>\n",
       "    .dataframe tbody tr th:only-of-type {\n",
       "        vertical-align: middle;\n",
       "    }\n",
       "\n",
       "    .dataframe tbody tr th {\n",
       "        vertical-align: top;\n",
       "    }\n",
       "\n",
       "    .dataframe thead th {\n",
       "        text-align: right;\n",
       "    }\n",
       "</style>\n",
       "<table border=\"1\" class=\"dataframe\">\n",
       "  <thead>\n",
       "    <tr style=\"text-align: right;\">\n",
       "      <th></th>\n",
       "      <th>Mars</th>\n",
       "    </tr>\n",
       "    <tr>\n",
       "      <th>Characteristic</th>\n",
       "      <th></th>\n",
       "    </tr>\n",
       "  </thead>\n",
       "  <tbody>\n",
       "    <tr>\n",
       "      <th>Equatorial Diameter:</th>\n",
       "      <td>6,792 km</td>\n",
       "    </tr>\n",
       "    <tr>\n",
       "      <th>Polar Diameter:</th>\n",
       "      <td>6,752 km</td>\n",
       "    </tr>\n",
       "    <tr>\n",
       "      <th>Mass:</th>\n",
       "      <td>6.39 × 10^23 kg (0.11 Earths)</td>\n",
       "    </tr>\n",
       "    <tr>\n",
       "      <th>Moons:</th>\n",
       "      <td>2 (Phobos &amp; Deimos)</td>\n",
       "    </tr>\n",
       "    <tr>\n",
       "      <th>Orbit Distance:</th>\n",
       "      <td>227,943,824 km (1.38 AU)</td>\n",
       "    </tr>\n",
       "  </tbody>\n",
       "</table>\n",
       "</div>"
      ],
      "text/plain": [
       "                                               Mars\n",
       "Characteristic                                     \n",
       "Equatorial Diameter:                       6,792 km\n",
       "Polar Diameter:                            6,752 km\n",
       "Mass:                 6.39 × 10^23 kg (0.11 Earths)\n",
       "Moons:                          2 (Phobos & Deimos)\n",
       "Orbit Distance:            227,943,824 km (1.38 AU)"
      ]
     },
     "execution_count": 28,
     "metadata": {},
     "output_type": "execute_result"
    }
   ],
   "source": [
    "df_2=df_2.set_index('Characteristic')\n",
    "df_2.head()"
   ]
  },
  {
   "cell_type": "code",
   "execution_count": 29,
   "metadata": {},
   "outputs": [
    {
     "data": {
      "text/plain": [
       "'<table border=\"1\" class=\"dataframe\">  <thead>    <tr style=\"text-align: right;\">      <th></th>      <th>Mars</th>    </tr>    <tr>      <th>Characteristic</th>      <th></th>    </tr>  </thead>  <tbody>    <tr>      <th>Equatorial Diameter:</th>      <td>6,792 km</td>    </tr>    <tr>      <th>Polar Diameter:</th>      <td>6,752 km</td>    </tr>    <tr>      <th>Mass:</th>      <td>6.39 × 10^23 kg (0.11 Earths)</td>    </tr>    <tr>      <th>Moons:</th>      <td>2 (Phobos &amp; Deimos)</td>    </tr>    <tr>      <th>Orbit Distance:</th>      <td>227,943,824 km (1.38 AU)</td>    </tr>    <tr>      <th>Orbit Period:</th>      <td>687 days (1.9 years)</td>    </tr>    <tr>      <th>Surface Temperature:</th>      <td>-87 to -5 °C</td>    </tr>    <tr>      <th>First Record:</th>      <td>2nd millennium BC</td>    </tr>    <tr>      <th>Recorded By:</th>      <td>Egyptian astronomers</td>    </tr>  </tbody></table>'"
      ]
     },
     "execution_count": 29,
     "metadata": {},
     "output_type": "execute_result"
    }
   ],
   "source": [
    "html_table_mars_2 = df_2.to_html()\n",
    "html_table_mars_2 = html_table_mars_2.replace('\\n', '')\n",
    "html_table_mars_2"
   ]
  },
  {
   "cell_type": "code",
   "execution_count": 30,
   "metadata": {},
   "outputs": [],
   "source": [
    "############# Mars Hemispheres\n",
    "url_cerberus = \"https://astrogeology.usgs.gov/search/map/Mars/Viking/cerberus_enhanced\"\n",
    "browser.visit(url_cerberus)"
   ]
  },
  {
   "cell_type": "code",
   "execution_count": 31,
   "metadata": {},
   "outputs": [
    {
     "name": "stdout",
     "output_type": "stream",
     "text": [
      "-----------\n",
      "Cerberus Hemisphere Enhanced\n",
      "https://astrogeology.usgs.gov/cache/images/cfa62af2557222a02478f1fcd781d445_cerberus_enhanced.tif_full.jpg\n",
      "{'title': 'Cerberus Hemisphere Enhanced', 'img_url': 'https://astrogeology.usgs.gov/cache/images/cfa62af2557222a02478f1fcd781d445_cerberus_enhanced.tif_full.jpg'}\n"
     ]
    }
   ],
   "source": [
    "html = browser.html\n",
    "soup = BeautifulSoup(html, 'html.parser')\n",
    "hemisphere_image_urls_1={} \n",
    "    \n",
    "title_cerberus = soup.find('h2', class_='title').text\n",
    "img_url_cerberus = soup.find('img',class_='wide-image')['src']\n",
    "img_url_cerberus = ('https://astrogeology.usgs.gov' + img_url_cerberus)\n",
    "print('-----------')\n",
    "print(title_cerberus)\n",
    "print(img_url_cerberus)\n",
    "\n",
    "hemisphere_image_urls_1.update({\"title\":title_cerberus, \"img_url\":img_url_cerberus })\n",
    "print(hemisphere_image_urls_1)"
   ]
  },
  {
   "cell_type": "code",
   "execution_count": 32,
   "metadata": {},
   "outputs": [
    {
     "name": "stdout",
     "output_type": "stream",
     "text": [
      "-----------\n",
      "Schiaparelli Hemisphere Enhanced\n",
      "https://astrogeology.usgs.gov/cache/images/3cdd1cbf5e0813bba925c9030d13b62e_schiaparelli_enhanced.tif_full.jpg\n",
      "{'title': 'Schiaparelli Hemisphere Enhanced', 'img_url': 'https://astrogeology.usgs.gov/cache/images/3cdd1cbf5e0813bba925c9030d13b62e_schiaparelli_enhanced.tif_full.jpg'}\n"
     ]
    }
   ],
   "source": [
    "url_schiaparelli = \"https://astrogeology.usgs.gov/search/map/Mars/Viking/schiaparelli_enhanced\"\n",
    "browser.visit(url_schiaparelli)\n",
    "hemisphere_image_urls_2={} \n",
    "html = browser.html\n",
    "soup = BeautifulSoup(html, 'html.parser')\n",
    "    \n",
    "title_schiaparelli= soup.find('h2', class_='title').text\n",
    "img_url_schiaparelli = soup.find('img',class_='wide-image')['src']\n",
    "img_url_schiaparelli = ('https://astrogeology.usgs.gov' + img_url_schiaparelli)\n",
    "print('-----------')\n",
    "print(title_schiaparelli)\n",
    "print(img_url_schiaparelli)\n",
    "\n",
    "hemisphere_image_urls_2.update({\"title\":title_schiaparelli, \"img_url\":img_url_schiaparelli})\n",
    "print(hemisphere_image_urls_2)"
   ]
  },
  {
   "cell_type": "code",
   "execution_count": 33,
   "metadata": {},
   "outputs": [
    {
     "name": "stdout",
     "output_type": "stream",
     "text": [
      "-----------\n",
      "Syrtis Major Hemisphere Enhanced\n",
      "https://astrogeology.usgs.gov/cache/images/ae209b4e408bb6c3e67b6af38168cf28_syrtis_major_enhanced.tif_full.jpg\n",
      "{'title': 'Syrtis Major Hemisphere Enhanced', 'img_url': 'https://astrogeology.usgs.gov/cache/images/ae209b4e408bb6c3e67b6af38168cf28_syrtis_major_enhanced.tif_full.jpg'}\n"
     ]
    }
   ],
   "source": [
    "url_syrtis = \"https://astrogeology.usgs.gov/search/map/Mars/Viking/syrtis_major_enhanced\"\n",
    "browser.visit(url_syrtis)\n",
    "hemisphere_image_urls_3={} \n",
    "html = browser.html\n",
    "soup = BeautifulSoup(html, 'html.parser')\n",
    "    \n",
    "title_syrtis= soup.find('h2', class_='title').text\n",
    "img_url_syrtis = soup.find('img',class_='wide-image')['src']\n",
    "img_url_syrtis = ('https://astrogeology.usgs.gov' + img_url_syrtis)\n",
    "print('-----------')\n",
    "print(title_syrtis)\n",
    "print(img_url_syrtis)\n",
    "\n",
    "hemisphere_image_urls_3.update({\"title\":title_syrtis, \"img_url\":img_url_syrtis})\n",
    "print(hemisphere_image_urls_3)"
   ]
  },
  {
   "cell_type": "code",
   "execution_count": 34,
   "metadata": {},
   "outputs": [
    {
     "name": "stdout",
     "output_type": "stream",
     "text": [
      "-----------\n",
      "Valles Marineris Hemisphere Enhanced\n",
      "https://astrogeology.usgs.gov/cache/images/7cf2da4bf549ed01c17f206327be4db7_valles_marineris_enhanced.tif_full.jpg\n",
      "{'title': 'Valles Marineris Hemisphere Enhanced', 'img_url': 'https://astrogeology.usgs.gov/cache/images/7cf2da4bf549ed01c17f206327be4db7_valles_marineris_enhanced.tif_full.jpg'}\n"
     ]
    }
   ],
   "source": [
    "url_Valles = \"https://astrogeology.usgs.gov/search/map/Mars/Viking/valles_marineris_enhanced\"\n",
    "browser.visit(url_Valles)\n",
    "hemisphere_image_urls_4={} \n",
    "html = browser.html\n",
    "soup = BeautifulSoup(html, 'html.parser')\n",
    "    \n",
    "title_Valles= soup.find('h2', class_='title').text\n",
    "img_url_Valles = soup.find('img',class_='wide-image')['src']\n",
    "img_url_Valles = ('https://astrogeology.usgs.gov' + img_url_Valles)\n",
    "print('-----------')\n",
    "print(title_Valles)\n",
    "print(img_url_Valles)\n",
    "hemisphere_image_urls_4.update({\"title\":title_Valles, \"img_url\":img_url_Valles})\n",
    "print(hemisphere_image_urls_4)"
   ]
  },
  {
   "cell_type": "code",
   "execution_count": 35,
   "metadata": {},
   "outputs": [
    {
     "name": "stdout",
     "output_type": "stream",
     "text": [
      "[{'title': 'Cerberus Hemisphere Enhanced', 'img_url': 'https://astrogeology.usgs.gov/cache/images/cfa62af2557222a02478f1fcd781d445_cerberus_enhanced.tif_full.jpg'}, {'title': 'Schiaparelli Hemisphere Enhanced', 'img_url': 'https://astrogeology.usgs.gov/cache/images/3cdd1cbf5e0813bba925c9030d13b62e_schiaparelli_enhanced.tif_full.jpg'}, {'title': 'Syrtis Major Hemisphere Enhanced', 'img_url': 'https://astrogeology.usgs.gov/cache/images/ae209b4e408bb6c3e67b6af38168cf28_syrtis_major_enhanced.tif_full.jpg'}, {'title': 'Valles Marineris Hemisphere Enhanced', 'img_url': 'https://astrogeology.usgs.gov/cache/images/7cf2da4bf549ed01c17f206327be4db7_valles_marineris_enhanced.tif_full.jpg'}]\n"
     ]
    }
   ],
   "source": [
    "hemisphere_image_urls =[]\n",
    "hemisphere_image_urls.append(hemisphere_image_urls_1)\n",
    "hemisphere_image_urls.append(hemisphere_image_urls_2)\n",
    "hemisphere_image_urls.append(hemisphere_image_urls_3)\n",
    "hemisphere_image_urls.append(hemisphere_image_urls_4)\n",
    "\n",
    "print(hemisphere_image_urls)"
   ]
  }
 ],
 "metadata": {
  "kernelspec": {
   "display_name": "Python 3",
   "language": "python",
   "name": "python3"
  },
  "language_info": {
   "codemirror_mode": {
    "name": "ipython",
    "version": 3
   },
   "file_extension": ".py",
   "mimetype": "text/x-python",
   "name": "python",
   "nbconvert_exporter": "python",
   "pygments_lexer": "ipython3",
   "version": "3.6.8"
  }
 },
 "nbformat": 4,
 "nbformat_minor": 2
}
